{
 "cells": [
  {
   "cell_type": "code",
   "execution_count": 1,
   "id": "2a5978bb",
   "metadata": {},
   "outputs": [],
   "source": [
    "import requests \n",
    "import time\n",
    "import sys\n",
    "import pandas as pd\n",
    "import numpy as np\n",
    "from config import stocks_api"
   ]
  },
  {
   "cell_type": "code",
   "execution_count": 2,
   "id": "56e0fb8b",
   "metadata": {},
   "outputs": [
    {
     "name": "stdout",
     "output_type": "stream",
     "text": [
      "Select a Time Span (minute, hour, day, week, month, quarter, year): day\n",
      "Multiple of Time Span: 1\n",
      "Start Date (year-mo-da): 2022-03-24\n",
      "End Date (year-mo-da): 2022-03-30\n"
     ]
    }
   ],
   "source": [
    "nasdaq = pd.read_csv(\"Resources/nasdaq_screener_1650145895697.csv\") # Read Nasdaq csv\n",
    "notdaq = pd.read_csv(\"Resources/not_nasdaq.csv\") # Elements that are in Nasdaq, continually appended \n",
    "\n",
    "nasdaq_tickers = nasdaq[\"Symbol\"] # Create list of unique nasdaq tickers\n",
    "not_nasdaq_tickers = notdaq[\"0\"].tolist() # Create list of not nasdaq tickers\n",
    "nasdaq_tickers = [ticker for ticker in nasdaq_tickers # Remove not nasdaq tickers from list\n",
    "                  if(ticker not in not_nasdaq_tickers)]\n",
    "\n",
    "nasdaq_data = [] # Empty list to hold our dictionary\n",
    "nasdaq_null = [] # List to hold null values \n",
    "\n",
    "time_span = input(\"Select a Time Span (minute, hour, day, week, month, quarter, year): \")\n",
    "multiplier = input(\"Multiple of Time Span: \")\n",
    "start_date = input(\"Start Date (year-mo-da): \")\n",
    "end_date = input(\"End Date (year-mo-da): \")\n",
    "\n",
    "with open('inputs.py', 'w') as f: # Write variables to the file inputs.py\n",
    "    sys.stdout = f \n",
    "    print(f'time_span = \"{time_span}\" \\nmultiplier = \"{multiplier}\" \\nstart_date = \"{start_date}\" \\nend_date = \"{end_date}\" \\n')\n",
    "    sys.stdout = sys.stdout \n",
    "\n",
    "# Create counters.\n",
    "record_count = 1\n",
    "set_count = 1\n"
   ]
  },
  {
   "cell_type": "code",
   "execution_count": null,
   "id": "c23f5f33",
   "metadata": {},
   "outputs": [],
   "source": [
    "for ticker in nasdaq_tickers:\n",
    " \n",
    "    try:\n",
    "        url = f\"https://api.polygon.io/v2/aggs/ticker/{ticker}/range/{multiplier}/{time_span}/{start_date}/{end_date}?adjusted=true&sort=asc&limit=120&apiKey=\" + stocks_api\n",
    "        ticker_request = requests.get(url)    \n",
    "        ticker_data = ticker_request.json()\n",
    "        \n",
    "        volume = []\n",
    "        volume_weighted_average = []\n",
    "        open_price = []\n",
    "        close_price = []\n",
    "        max_price = []\n",
    "        lowest_price = []\n",
    "        unix_time = []\n",
    "        number_of_transactions = []\n",
    "\n",
    "        for j in range(len(ticker_data[\"results\"])):\n",
    "            volume.append(ticker_data[\"results\"][j][\"v\"])\n",
    "            volume_weighted_average.append(ticker_data[\"results\"][j][\"vw\"])\n",
    "            open_price.append(ticker_data[\"results\"][j][\"o\"])\n",
    "            close_price.append(ticker_data[\"results\"][j][\"c\"])\n",
    "            max_price.append(ticker_data[\"results\"][j][\"h\"])\n",
    "            lowest_price.append(ticker_data[\"results\"][j][\"l\"])\n",
    "            unix_time.append(ticker_data[\"results\"][j][\"t\"])\n",
    "            number_of_transactions.append(ticker_data[\"results\"][j][\"n\"])\n",
    "    \n",
    "    \n",
    "    \n",
    "        nasdaq_data.append({\"Tickers\": ticker, \n",
    "                            \"Volume\": volume,\n",
    "                            \"Volume Weighted Average\": volume_weighted_average,\n",
    "                            \"Open Price\": open_price,\n",
    "                            \"Close Price\": close_price,\n",
    "                            \"Max Price\": max_price,\n",
    "                            \"Lowest Price\": lowest_price,\n",
    "                            \"Unix Time\": unix_time,\n",
    "                            \"Number of Transactions\": number_of_transactions})\n",
    "\n",
    "    except:\n",
    "        print(f\"The Ticker, \" + ticker + \" is unavailible\")\n",
    "        nasdaq_null.append(ticker)\n",
    "        nasdaq_null_df = pd.DataFrame(nasdaq_null)\n",
    "        nasdaq_null_df.to_csv(\"Resources/not_nasdaq_new.csv\", index_label=\"Tickers\")\n",
    "               \n",
    "        pass\n",
    "    \n",
    "    time.sleep(12) # Free subscription only allows for 5 requests a minute\n",
    "       "
   ]
  },
  {
   "cell_type": "code",
   "execution_count": null,
   "id": "cf1545b1",
   "metadata": {},
   "outputs": [],
   "source": [
    "nasdaq_df = pd.DataFrame(nasdaq_data)\n",
    "output_data_file = \"Resources/Nasdaq_data.csv\"\n",
    "\n",
    "nasdaq_df.to_csv(output_data_file, index_label=\"Ticker number\")\n",
    "nasdaq_df"
   ]
  }
 ],
 "metadata": {
  "kernelspec": {
   "display_name": "Python 3 (ipykernel)",
   "language": "python",
   "name": "python3"
  },
  "language_info": {
   "codemirror_mode": {
    "name": "ipython",
    "version": 3
   },
   "file_extension": ".py",
   "mimetype": "text/x-python",
   "name": "python",
   "nbconvert_exporter": "python",
   "pygments_lexer": "ipython3",
   "version": "3.9.7"
  }
 },
 "nbformat": 4,
 "nbformat_minor": 5
}
