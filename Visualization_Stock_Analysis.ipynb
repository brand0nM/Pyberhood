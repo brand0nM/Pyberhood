{
 "cells": [
  {
   "cell_type": "code",
   "execution_count": 1,
   "id": "42f44ecc",
   "metadata": {},
   "outputs": [],
   "source": [
    "from inputs import start_date, end_date\n",
    "import pandas as pd\n",
    "import numpy as np\n",
    "import matplotlib.pyplot as plt"
   ]
  },
  {
   "cell_type": "code",
   "execution_count": 2,
   "id": "26a07c5e",
   "metadata": {},
   "outputs": [
    {
     "data": {
      "text/html": [
       "<div>\n",
       "<style scoped>\n",
       "    .dataframe tbody tr th:only-of-type {\n",
       "        vertical-align: middle;\n",
       "    }\n",
       "\n",
       "    .dataframe tbody tr th {\n",
       "        vertical-align: top;\n",
       "    }\n",
       "\n",
       "    .dataframe thead th {\n",
       "        text-align: right;\n",
       "    }\n",
       "</style>\n",
       "<table border=\"1\" class=\"dataframe\">\n",
       "  <thead>\n",
       "    <tr style=\"text-align: right;\">\n",
       "      <th></th>\n",
       "      <th>Ticker number</th>\n",
       "      <th>Ticker</th>\n",
       "      <th>Week's Performance</th>\n",
       "      <th>Highest Price</th>\n",
       "      <th>Lowest Price</th>\n",
       "      <th>Best Day</th>\n",
       "      <th>Worst Day</th>\n",
       "      <th>Week's Volume</th>\n",
       "    </tr>\n",
       "  </thead>\n",
       "  <tbody>\n",
       "    <tr>\n",
       "      <th>0</th>\n",
       "      <td>2785</td>\n",
       "      <td>FRGE</td>\n",
       "      <td>168.665%</td>\n",
       "      <td>$44.68</td>\n",
       "      <td>$11.94</td>\n",
       "      <td>76.797%</td>\n",
       "      <td>-11.135%</td>\n",
       "      <td>42405704714720752880972</td>\n",
       "    </tr>\n",
       "    <tr>\n",
       "      <th>1</th>\n",
       "      <td>1576</td>\n",
       "      <td>CLVRW</td>\n",
       "      <td>119.000%</td>\n",
       "      <td>$0.65</td>\n",
       "      <td>$0.20</td>\n",
       "      <td>40.524%</td>\n",
       "      <td>-41.180%</td>\n",
       "      <td>2642035114916271312</td>\n",
       "    </tr>\n",
       "    <tr>\n",
       "      <th>2</th>\n",
       "      <td>3528</td>\n",
       "      <td>HYMCL</td>\n",
       "      <td>118.977%</td>\n",
       "      <td>$0.80</td>\n",
       "      <td>$0.28</td>\n",
       "      <td>16.667%</td>\n",
       "      <td>-8.119%</td>\n",
       "      <td>31955415062343635</td>\n",
       "    </tr>\n",
       "    <tr>\n",
       "      <th>3</th>\n",
       "      <td>1575</td>\n",
       "      <td>CLVR</td>\n",
       "      <td>109.677%</td>\n",
       "      <td>$3.98</td>\n",
       "      <td>$1.22</td>\n",
       "      <td>91.521%</td>\n",
       "      <td>-35.254%</td>\n",
       "      <td>6119351496131999272447167546</td>\n",
       "    </tr>\n",
       "    <tr>\n",
       "      <th>4</th>\n",
       "      <td>2129</td>\n",
       "      <td>DRCT</td>\n",
       "      <td>99.038%</td>\n",
       "      <td>$5.49</td>\n",
       "      <td>$2.06</td>\n",
       "      <td>16.827%</td>\n",
       "      <td>-13.858%</td>\n",
       "      <td>22022005175617415459365</td>\n",
       "    </tr>\n",
       "    <tr>\n",
       "      <th>...</th>\n",
       "      <td>...</td>\n",
       "      <td>...</td>\n",
       "      <td>...</td>\n",
       "      <td>...</td>\n",
       "      <td>...</td>\n",
       "      <td>...</td>\n",
       "      <td>...</td>\n",
       "      <td>...</td>\n",
       "    </tr>\n",
       "    <tr>\n",
       "      <th>6958</th>\n",
       "      <td>7656</td>\n",
       "      <td>XFINW</td>\n",
       "      <td>-47.487%</td>\n",
       "      <td>$0.40</td>\n",
       "      <td>$0.21</td>\n",
       "      <td>0.030%</td>\n",
       "      <td>-26.677%</td>\n",
       "      <td>77122765</td>\n",
       "    </tr>\n",
       "    <tr>\n",
       "      <th>6959</th>\n",
       "      <td>4967</td>\n",
       "      <td>NMTC</td>\n",
       "      <td>-48.387%</td>\n",
       "      <td>$2.45</td>\n",
       "      <td>$1.08</td>\n",
       "      <td>3.226%</td>\n",
       "      <td>-32.571%</td>\n",
       "      <td>15729067112039803</td>\n",
       "    </tr>\n",
       "    <tr>\n",
       "      <th>6960</th>\n",
       "      <td>3576</td>\n",
       "      <td>ICVX</td>\n",
       "      <td>-59.000%</td>\n",
       "      <td>$13.46</td>\n",
       "      <td>$4.00</td>\n",
       "      <td>18.301%</td>\n",
       "      <td>-44.106%</td>\n",
       "      <td>26802694512177103346564</td>\n",
       "    </tr>\n",
       "    <tr>\n",
       "      <th>6961</th>\n",
       "      <td>4499</td>\n",
       "      <td>MEIP</td>\n",
       "      <td>-65.556%</td>\n",
       "      <td>$1.83</td>\n",
       "      <td>$0.53</td>\n",
       "      <td>6.207%</td>\n",
       "      <td>-34.663%</td>\n",
       "      <td>726172440557422775427060</td>\n",
       "    </tr>\n",
       "    <tr>\n",
       "      <th>6962</th>\n",
       "      <td>288</td>\n",
       "      <td>AKBA</td>\n",
       "      <td>-67.486%</td>\n",
       "      <td>$2.60</td>\n",
       "      <td>$0.67</td>\n",
       "      <td>-1.961%</td>\n",
       "      <td>-64.493%</td>\n",
       "      <td>10919143722751322155102105</td>\n",
       "    </tr>\n",
       "  </tbody>\n",
       "</table>\n",
       "<p>6963 rows × 8 columns</p>\n",
       "</div>"
      ],
      "text/plain": [
       "      Ticker number Ticker Week's Performance Highest Price Lowest Price  \\\n",
       "0              2785   FRGE           168.665%        $44.68       $11.94   \n",
       "1              1576  CLVRW           119.000%         $0.65        $0.20   \n",
       "2              3528  HYMCL           118.977%         $0.80        $0.28   \n",
       "3              1575   CLVR           109.677%         $3.98        $1.22   \n",
       "4              2129   DRCT            99.038%         $5.49        $2.06   \n",
       "...             ...    ...                ...           ...          ...   \n",
       "6958           7656  XFINW           -47.487%         $0.40        $0.21   \n",
       "6959           4967   NMTC           -48.387%         $2.45        $1.08   \n",
       "6960           3576   ICVX           -59.000%        $13.46        $4.00   \n",
       "6961           4499   MEIP           -65.556%         $1.83        $0.53   \n",
       "6962            288   AKBA           -67.486%         $2.60        $0.67   \n",
       "\n",
       "     Best Day Worst Day                 Week's Volume  \n",
       "0     76.797%  -11.135%       42405704714720752880972  \n",
       "1     40.524%  -41.180%           2642035114916271312  \n",
       "2     16.667%   -8.119%             31955415062343635  \n",
       "3     91.521%  -35.254%  6119351496131999272447167546  \n",
       "4     16.827%  -13.858%       22022005175617415459365  \n",
       "...       ...       ...                           ...  \n",
       "6958   0.030%  -26.677%                      77122765  \n",
       "6959   3.226%  -32.571%             15729067112039803  \n",
       "6960  18.301%  -44.106%       26802694512177103346564  \n",
       "6961   6.207%  -34.663%      726172440557422775427060  \n",
       "6962  -1.961%  -64.493%    10919143722751322155102105  \n",
       "\n",
       "[6963 rows x 8 columns]"
      ]
     },
     "execution_count": 2,
     "metadata": {},
     "output_type": "execute_result"
    }
   ],
   "source": [
    "Nasdaq_df = pd.read_csv(f\"Analysis/Nasdaq_data_cleaned_{start_date}_{end_date}.csv\")\n",
    "Nasdaq_df = pd.DataFrame(Nasdaq_df)\n",
    "\n",
    "Nasdaq_df"
   ]
  },
  {
   "cell_type": "code",
   "execution_count": 3,
   "id": "e7dc4d13",
   "metadata": {},
   "outputs": [],
   "source": [
    "Week_performance = [float(percent.replace('%','')) for percent in Nasdaq_df[\"Week's Performance\"]]\n",
    "Best_day = [float(percent.replace('%','')) for percent in Nasdaq_df[\"Best Day\"]]\n",
    "Worst_day = [float(percent.replace('%','')) for percent in Nasdaq_df[\"Worst Day\"]]\n",
    "Highest_price = [float(percent.replace('$','')) for percent in Nasdaq_df[\"Highest Price\"]]\n",
    "Lowest_price = [float(percent.replace('$','')) for percent in Nasdaq_df[\"Lowest Price\"]]\n",
    "Volume = [float(percent) for percent in Nasdaq_df[\"Week's Volume\"]]\n",
    "\n",
    "Volatility = [] # Define the volatility for each stock\n",
    "for i in range(len(Best_day)):\n",
    "    Volatility.append(abs(Best_day[i]) + abs(Worst_day[i]))"
   ]
  },
  {
   "cell_type": "code",
   "execution_count": 4,
   "id": "8c3d2a72",
   "metadata": {},
   "outputs": [
    {
     "name": "stderr",
     "output_type": "stream",
     "text": [
      "/Users/brandon/opt/anaconda3/lib/python3.9/site-packages/matplotlib/collections.py:1003: RuntimeWarning: invalid value encountered in sqrt\n",
      "  scale = np.sqrt(self._sizes) * dpi / 72.0 * self._factor\n"
     ]
    },
    {
     "data": {
      "text/plain": [
       "<matplotlib.collections.PathCollection at 0x7f98d406a6a0>"
      ]
     },
     "execution_count": 4,
     "metadata": {},
     "output_type": "execute_result"
    },
    {
     "data": {
      "image/png": "[encoded data removed]",
      "text/plain": [
       "<Figure size 432x288 with 1 Axes>"
      ]
     },
     "metadata": {
      "needs_background": "light"
     },
     "output_type": "display_data"
    }
   ],
   "source": [
    "plt.scatter(Volatility, Highest_price, s=Week_performance, c=Volume)"
   ]
  },
  {
   "cell_type": "code",
   "execution_count": 5,
   "id": "d31f937a",
   "metadata": {},
   "outputs": [
    {
     "data": {
      "text/plain": [
       "<matplotlib.collections.PathCollection at 0x7f98d422f1c0>"
      ]
     },
     "execution_count": 5,
     "metadata": {},
     "output_type": "execute_result"
    },
    {
     "data": {
      "image/png": "[encoded data removed]",
      "text/plain": [
       "<Figure size 432x288 with 1 Axes>"
      ]
     },
     "metadata": {
      "needs_background": "light"
     },
     "output_type": "display_data"
    }
   ],
   "source": [
    "plt.scatter(Highest_price, Week_performance, s=Volatility, c=Volume)"
   ]
  }
 ],
 "metadata": {
  "kernelspec": {
   "display_name": "Python 3 (ipykernel)",
   "language": "python",
   "name": "python3"
  },
  "language_info": {
   "codemirror_mode": {
    "name": "ipython",
    "version": 3
   },
   "file_extension": ".py",
   "mimetype": "text/x-python",
   "name": "python",
   "nbconvert_exporter": "python",
   "pygments_lexer": "ipython3",
   "version": "3.9.7"
  }
 },
 "nbformat": 4,
 "nbformat_minor": 5
}
