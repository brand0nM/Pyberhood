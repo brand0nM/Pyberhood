{
 "cells": [
  {
   "cell_type": "code",
   "execution_count": 1,
   "id": "42f44ecc",
   "metadata": {},
   "outputs": [],
   "source": [
    "from inputs import start_date, end_date\n",
    "import pandas as pd\n",
    "import numpy as np\n",
    "import matplotlib.pyplot as plt"
   ]
  },
  {
   "cell_type": "code",
   "execution_count": 2,
   "id": "26a07c5e",
   "metadata": {},
   "outputs": [
    {
     "data": {
      "text/html": [
       "<div>\n",
       "<style scoped>\n",
       "    .dataframe tbody tr th:only-of-type {\n",
       "        vertical-align: middle;\n",
       "    }\n",
       "\n",
       "    .dataframe tbody tr th {\n",
       "        vertical-align: top;\n",
       "    }\n",
       "\n",
       "    .dataframe thead th {\n",
       "        text-align: right;\n",
       "    }\n",
       "</style>\n",
       "<table border=\"1\" class=\"dataframe\">\n",
       "  <thead>\n",
       "    <tr style=\"text-align: right;\">\n",
       "      <th></th>\n",
       "      <th>Ticker number</th>\n",
       "      <th>Ticker</th>\n",
       "      <th>Week's Performance</th>\n",
       "      <th>Highest Price</th>\n",
       "      <th>Lowest Price</th>\n",
       "      <th>Best Day</th>\n",
       "      <th>Worst Day</th>\n",
       "      <th>Week's Volume</th>\n",
       "    </tr>\n",
       "  </thead>\n",
       "  <tbody>\n",
       "    <tr>\n",
       "      <th>0</th>\n",
       "      <td>54</td>\n",
       "      <td>ACB</td>\n",
       "      <td>10.243%</td>\n",
       "      <td>$4.56</td>\n",
       "      <td>$3.53</td>\n",
       "      <td>8.895%</td>\n",
       "      <td>-4.662%</td>\n",
       "      <td>5403210841549130</td>\n",
       "    </tr>\n",
       "    <tr>\n",
       "      <th>1</th>\n",
       "      <td>9</td>\n",
       "      <td>AAL</td>\n",
       "      <td>6.070%</td>\n",
       "      <td>$17.44</td>\n",
       "      <td>$16.10</td>\n",
       "      <td>2.514%</td>\n",
       "      <td>0.174%</td>\n",
       "      <td>101431132714106278</td>\n",
       "    </tr>\n",
       "    <tr>\n",
       "      <th>2</th>\n",
       "      <td>10</td>\n",
       "      <td>AAMC</td>\n",
       "      <td>5.122%</td>\n",
       "      <td>$15.72</td>\n",
       "      <td>$14.10</td>\n",
       "      <td>7.254%</td>\n",
       "      <td>-1.457%</td>\n",
       "      <td>16540392</td>\n",
       "    </tr>\n",
       "    <tr>\n",
       "      <th>3</th>\n",
       "      <td>30</td>\n",
       "      <td>ABEV</td>\n",
       "      <td>4.795%</td>\n",
       "      <td>$3.08</td>\n",
       "      <td>$2.90</td>\n",
       "      <td>2.389%</td>\n",
       "      <td>0.000%</td>\n",
       "      <td>318741841124139</td>\n",
       "    </tr>\n",
       "    <tr>\n",
       "      <th>4</th>\n",
       "      <td>28</td>\n",
       "      <td>ABCM</td>\n",
       "      <td>3.627%</td>\n",
       "      <td>$18.61</td>\n",
       "      <td>$17.74</td>\n",
       "      <td>3.917%</td>\n",
       "      <td>0.558%</td>\n",
       "      <td>175115962769</td>\n",
       "    </tr>\n",
       "    <tr>\n",
       "      <th>...</th>\n",
       "      <td>...</td>\n",
       "      <td>...</td>\n",
       "      <td>...</td>\n",
       "      <td>...</td>\n",
       "      <td>...</td>\n",
       "      <td>...</td>\n",
       "      <td>...</td>\n",
       "      <td>...</td>\n",
       "    </tr>\n",
       "    <tr>\n",
       "      <th>61</th>\n",
       "      <td>84</td>\n",
       "      <td>ACMR</td>\n",
       "      <td>-6.391%</td>\n",
       "      <td>$23.00</td>\n",
       "      <td>$20.73</td>\n",
       "      <td>0.555%</td>\n",
       "      <td>-5.174%</td>\n",
       "      <td>1010580046122</td>\n",
       "    </tr>\n",
       "    <tr>\n",
       "      <th>62</th>\n",
       "      <td>74</td>\n",
       "      <td>ACI</td>\n",
       "      <td>-7.434%</td>\n",
       "      <td>$36.25</td>\n",
       "      <td>$32.00</td>\n",
       "      <td>1.244%</td>\n",
       "      <td>-1.733%</td>\n",
       "      <td>137036200126273</td>\n",
       "    </tr>\n",
       "    <tr>\n",
       "      <th>63</th>\n",
       "      <td>31</td>\n",
       "      <td>ABG</td>\n",
       "      <td>-8.652%</td>\n",
       "      <td>$181.81</td>\n",
       "      <td>$161.78</td>\n",
       "      <td>-1.117%</td>\n",
       "      <td>-4.913%</td>\n",
       "      <td>586959627909</td>\n",
       "    </tr>\n",
       "    <tr>\n",
       "      <th>64</th>\n",
       "      <td>29</td>\n",
       "      <td>ABEO</td>\n",
       "      <td>-8.672%</td>\n",
       "      <td>$0.32</td>\n",
       "      <td>$0.28</td>\n",
       "      <td>0.645%</td>\n",
       "      <td>-7.878%</td>\n",
       "      <td>164415381394</td>\n",
       "    </tr>\n",
       "    <tr>\n",
       "      <th>65</th>\n",
       "      <td>37</td>\n",
       "      <td>ABOS</td>\n",
       "      <td>-17.813%</td>\n",
       "      <td>$5.86</td>\n",
       "      <td>$4.63</td>\n",
       "      <td>0.000%</td>\n",
       "      <td>-9.187%</td>\n",
       "      <td>282623823782</td>\n",
       "    </tr>\n",
       "  </tbody>\n",
       "</table>\n",
       "<p>66 rows × 8 columns</p>\n",
       "</div>"
      ],
      "text/plain": [
       "    Ticker number Ticker Week's Performance Highest Price Lowest Price  \\\n",
       "0              54    ACB            10.243%         $4.56        $3.53   \n",
       "1               9    AAL             6.070%        $17.44       $16.10   \n",
       "2              10   AAMC             5.122%        $15.72       $14.10   \n",
       "3              30   ABEV             4.795%         $3.08        $2.90   \n",
       "4              28   ABCM             3.627%        $18.61       $17.74   \n",
       "..            ...    ...                ...           ...          ...   \n",
       "61             84   ACMR            -6.391%        $23.00       $20.73   \n",
       "62             74    ACI            -7.434%        $36.25       $32.00   \n",
       "63             31    ABG            -8.652%       $181.81      $161.78   \n",
       "64             29   ABEO            -8.672%         $0.32        $0.28   \n",
       "65             37   ABOS           -17.813%         $5.86        $4.63   \n",
       "\n",
       "   Best Day Worst Day       Week's Volume  \n",
       "0    8.895%   -4.662%    5403210841549130  \n",
       "1    2.514%    0.174%  101431132714106278  \n",
       "2    7.254%   -1.457%            16540392  \n",
       "3    2.389%    0.000%     318741841124139  \n",
       "4    3.917%    0.558%        175115962769  \n",
       "..      ...       ...                 ...  \n",
       "61   0.555%   -5.174%       1010580046122  \n",
       "62   1.244%   -1.733%     137036200126273  \n",
       "63  -1.117%   -4.913%        586959627909  \n",
       "64   0.645%   -7.878%        164415381394  \n",
       "65   0.000%   -9.187%        282623823782  \n",
       "\n",
       "[66 rows x 8 columns]"
      ]
     },
     "execution_count": 2,
     "metadata": {},
     "output_type": "execute_result"
    }
   ],
   "source": [
    "Nasdaq_df = pd.read_csv(f\"Analysis/Nasdaq_data_cleaned_{start_date}_{end_date}.csv\")\n",
    "Nasdaq_df = pd.DataFrame(Nasdaq_df)\n",
    "\n",
    "Nasdaq_df"
   ]
  },
  {
   "cell_type": "code",
   "execution_count": 3,
   "id": "e7dc4d13",
   "metadata": {},
   "outputs": [],
   "source": [
    "Week_performance = [float(percent.replace('%','')) for percent in Nasdaq_df[\"Week's Performance\"]]\n",
    "Best_day = [float(percent.replace('%','')) for percent in Nasdaq_df[\"Best Day\"]]\n",
    "Worst_day = [float(percent.replace('%','')) for percent in Nasdaq_df[\"Worst Day\"]]\n",
    "Highest_price = [float(percent.replace('$','')) for percent in Nasdaq_df[\"Highest Price\"]]\n",
    "Lowest_price = [float(percent.replace('$','')) for percent in Nasdaq_df[\"Lowest Price\"]]\n",
    "Volume = [float(percent) for percent in Nasdaq_df[\"Week's Volume\"]]\n",
    "\n",
    "Volatility = [] # Define the volatility for each stock\n",
    "for i in range(len(Best_day)):\n",
    "    Volatility.append(abs(Best_day[i]) + abs(Worst_day[i]))"
   ]
  },
  {
   "cell_type": "code",
   "execution_count": 4,
   "id": "8c3d2a72",
   "metadata": {},
   "outputs": [
    {
     "data": {
      "text/plain": [
       "<matplotlib.collections.PathCollection at 0x7fc793f51490>"
      ]
     },
     "execution_count": 4,
     "metadata": {},
     "output_type": "execute_result"
    },
    {
     "data": {
      "image/png": "[encoded data removed]",
      "text/plain": [
       "<Figure size 432x288 with 1 Axes>"
      ]
     },
     "metadata": {
      "needs_background": "light"
     },
     "output_type": "display_data"
    }
   ],
   "source": [
    "plt.scatter(Volatility, Week_performance, s=Highest_price, c=Volume)"
   ]
  },
  {
   "cell_type": "code",
   "execution_count": 5,
   "id": "d31f937a",
   "metadata": {},
   "outputs": [
    {
     "data": {
      "text/plain": [
       "<matplotlib.collections.PathCollection at 0x7fc79498a550>"
      ]
     },
     "execution_count": 5,
     "metadata": {},
     "output_type": "execute_result"
    },
    {
     "data": {
      "image/png": "[encoded data removed]",
      "text/plain": [
       "<Figure size 432x288 with 1 Axes>"
      ]
     },
     "metadata": {
      "needs_background": "light"
     },
     "output_type": "display_data"
    }
   ],
   "source": [
    "plt.scatter(Highest_price, Week_performance, s=Volatility, c=Volume)"
   ]
  }
 ],
 "metadata": {
  "kernelspec": {
   "display_name": "Python 3 (ipykernel)",
   "language": "python",
   "name": "python3"
  },
  "language_info": {
   "codemirror_mode": {
    "name": "ipython",
    "version": 3
   },
   "file_extension": ".py",
   "mimetype": "text/x-python",
   "name": "python",
   "nbconvert_exporter": "python",
   "pygments_lexer": "ipython3",
   "version": "3.9.7"
  }
 },
 "nbformat": 4,
 "nbformat_minor": 5
}
