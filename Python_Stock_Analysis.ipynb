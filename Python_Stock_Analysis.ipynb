{
 "cells": [
  {
   "cell_type": "code",
   "execution_count": 1,
   "id": "2a5978bb",
   "metadata": {},
   "outputs": [],
   "source": [
    "import requests \n",
    "import time\n",
    "import pandas as pd\n",
    "import numpy as np\n",
    "from config import stocks_api"
   ]
  },
  {
   "cell_type": "code",
   "execution_count": 2,
   "id": "56e0fb8b",
   "metadata": {},
   "outputs": [],
   "source": [
    "nasdaq = pd.read_csv(\"Resources/nasdaq_screener_1650145895697.csv\") # Read Nasdaq csv\n",
    "nasdaq_tickers = nasdaq[\"Symbol\"] # Create list of unique nasdaq tickers\n",
    "nasdaq_data = [] # Empty list to hold our dictionary\n",
    "\n",
    "time_span = \"day\" #time_span = input()\n",
    "multiplier = \"1\" # time_span_multiplier = input()\n",
    "time_span = \"day\" #time_span = input()\n",
    "start_date = \"2020-06-01\" #start_date = input()\n",
    "end_date = \"2020-06-17\" #end_date = input()\n",
    "\n",
    "# Create counters.\n",
    "record_count = 1\n",
    "set_count = 1\n"
   ]
  },
  {
   "cell_type": "code",
   "execution_count": 3,
   "id": "c23f5f33",
   "metadata": {},
   "outputs": [
    {
     "name": "stdout",
     "output_type": "stream",
     "text": [
      "The Ticker, AAC is unavailible\n"
     ]
    },
    {
     "ename": "KeyboardInterrupt",
     "evalue": "",
     "output_type": "error",
     "traceback": [
      "\u001b[0;31m---------------------------------------------------------------------------\u001b[0m",
      "\u001b[0;31mKeyboardInterrupt\u001b[0m                         Traceback (most recent call last)",
      "\u001b[0;32m/var/folders/xd/glyjdp9j5nl4bwv3jk5gg78w0000gn/T/ipykernel_3578/3695483521.py\u001b[0m in \u001b[0;36m<module>\u001b[0;34m\u001b[0m\n\u001b[1;32m     42\u001b[0m         \u001b[0;32mpass\u001b[0m\u001b[0;34m\u001b[0m\u001b[0;34m\u001b[0m\u001b[0m\n\u001b[1;32m     43\u001b[0m \u001b[0;34m\u001b[0m\u001b[0m\n\u001b[0;32m---> 44\u001b[0;31m     \u001b[0mtime\u001b[0m\u001b[0;34m.\u001b[0m\u001b[0msleep\u001b[0m\u001b[0;34m(\u001b[0m\u001b[0;36m12.5\u001b[0m\u001b[0;34m)\u001b[0m\u001b[0;34m\u001b[0m\u001b[0;34m\u001b[0m\u001b[0m\n\u001b[0m\u001b[1;32m     45\u001b[0m \u001b[0;34m\u001b[0m\u001b[0m\n\u001b[1;32m     46\u001b[0m \u001b[0;34m\u001b[0m\u001b[0m\n",
      "\u001b[0;31mKeyboardInterrupt\u001b[0m: "
     ]
    }
   ],
   "source": [
    "for ticker in nasdaq_tickers:\n",
    " \n",
    "    try:\n",
    "        url = \"https://api.polygon.io/v2/aggs/ticker/\" + ticker + \"/range/\" + multiplier + \"/\" + time_span + \"/\" + start_date + \"/\" + end_date + \"?adjusted=true&sort=asc&limit=120&apiKey=\" + stocks_api\n",
    "        ticker_request = requests.get(url)    \n",
    "        ticker_data = ticker_request.json()\n",
    "        \n",
    "        volume = []\n",
    "        volume_weighted_average = []\n",
    "        open_price = []\n",
    "        close_price = []\n",
    "        max_price = []\n",
    "        lowest_price = []\n",
    "        unix_time = []\n",
    "        number_of_transactions = []\n",
    "\n",
    "        for j in range(len(ticker_data[\"results\"])):\n",
    "            volume.append(ticker_data[\"results\"][j][\"v\"])\n",
    "            volume_weighted_average.append(ticker_data[\"results\"][j][\"vw\"])\n",
    "            open_price.append(ticker_data[\"results\"][j][\"o\"])\n",
    "            close_price.append(ticker_data[\"results\"][j][\"c\"])\n",
    "            max_price.append(ticker_data[\"results\"][j][\"h\"])\n",
    "            lowest_price.append(ticker_data[\"results\"][j][\"l\"])\n",
    "            unix_time.append(ticker_data[\"results\"][j][\"t\"])\n",
    "            number_of_transactions.append(ticker_data[\"results\"][j][\"n\"])\n",
    "    \n",
    "    \n",
    "    \n",
    "        nasdaq_data.append({\"Tickers\": ticker, \n",
    "                            \"Volume\": volume,\n",
    "                            \"Volume Weighted Average\": volume_weighted_average,\n",
    "                            \"Open Price\": open_price,\n",
    "                            \"Close Price\": close_price,\n",
    "                            \"Max Price\": max_price,\n",
    "                            \"Lowest Price\": lowest_price,\n",
    "                            \"Unix Time\": unix_time,\n",
    "                            \"Number of Transactions\": number_of_transactions})\n",
    "\n",
    "    except:\n",
    "        print(f\"The Ticker, \" + ticker + \" is unavailible\")\n",
    "        \n",
    "        pass\n",
    "    \n",
    "    time.sleep(12) # Free subscription only allows for 5 requests a minute\n",
    "    \n",
    "    "
   ]
  },
  {
   "cell_type": "code",
   "execution_count": 4,
   "id": "cf1545b1",
   "metadata": {},
   "outputs": [
    {
     "data": {
      "text/html": [
       "<div>\n",
       "<style scoped>\n",
       "    .dataframe tbody tr th:only-of-type {\n",
       "        vertical-align: middle;\n",
       "    }\n",
       "\n",
       "    .dataframe tbody tr th {\n",
       "        vertical-align: top;\n",
       "    }\n",
       "\n",
       "    .dataframe thead th {\n",
       "        text-align: right;\n",
       "    }\n",
       "</style>\n",
       "<table border=\"1\" class=\"dataframe\">\n",
       "  <thead>\n",
       "    <tr style=\"text-align: right;\">\n",
       "      <th></th>\n",
       "      <th>Tickers</th>\n",
       "      <th>Volume</th>\n",
       "      <th>Volume Weighted Average</th>\n",
       "      <th>Open Price</th>\n",
       "      <th>Close Price</th>\n",
       "      <th>Max Price</th>\n",
       "      <th>Lowest Price</th>\n",
       "      <th>Unix Time</th>\n",
       "      <th>Number of Transactions</th>\n",
       "    </tr>\n",
       "  </thead>\n",
       "  <tbody>\n",
       "    <tr>\n",
       "      <th>0</th>\n",
       "      <td>A</td>\n",
       "      <td>[2504902.0, 1704291.0, 1395470.0, 2245679.0, 2...</td>\n",
       "      <td>[89.5457, 90.045, 90.6636, 91.1183, 91.1655, 9...</td>\n",
       "      <td>[88.04, 90, 90.65, 89.82, 92.13, 89.31, 90.09,...</td>\n",
       "      <td>[89.91, 90.29, 90.49, 91.14, 90.38, 90.29, 89....</td>\n",
       "      <td>[89.98, 90.63, 91.14, 91.74, 93.04, 90.589, 90...</td>\n",
       "      <td>[87.94, 89.11, 90.26, 89.815, 90.09, 89.06, 89...</td>\n",
       "      <td>[1590984000000, 1591070400000, 1591156800000, ...</td>\n",
       "      <td>[22455, 18725, 16385, 19842, 34246, 15197, 176...</td>\n",
       "    </tr>\n",
       "    <tr>\n",
       "      <th>1</th>\n",
       "      <td>AA</td>\n",
       "      <td>[5612145.0, 6320835.0, 8793106.0, 11533486.0, ...</td>\n",
       "      <td>[9.4667, 9.8901, 10.5796, 11.2905, 12.2442, 12...</td>\n",
       "      <td>[9.21, 9.62, 10.2, 10.85, 12.69, 12.7, 12.38, ...</td>\n",
       "      <td>[9.49, 9.92, 10.77, 11.64, 12.07, 12.98, 12.59...</td>\n",
       "      <td>[9.645, 10.04, 10.89, 11.65, 13.86, 13.04, 12....</td>\n",
       "      <td>[9.15, 9.62, 10.085, 10.575, 11.57, 12.3, 12.0...</td>\n",
       "      <td>[1590984000000, 1591070400000, 1591156800000, ...</td>\n",
       "      <td>[27809, 30443, 39445, 53007, 95154, 57874, 460...</td>\n",
       "    </tr>\n",
       "  </tbody>\n",
       "</table>\n",
       "</div>"
      ],
      "text/plain": [
       "  Tickers                                             Volume  \\\n",
       "0       A  [2504902.0, 1704291.0, 1395470.0, 2245679.0, 2...   \n",
       "1      AA  [5612145.0, 6320835.0, 8793106.0, 11533486.0, ...   \n",
       "\n",
       "                             Volume Weighted Average  \\\n",
       "0  [89.5457, 90.045, 90.6636, 91.1183, 91.1655, 9...   \n",
       "1  [9.4667, 9.8901, 10.5796, 11.2905, 12.2442, 12...   \n",
       "\n",
       "                                          Open Price  \\\n",
       "0  [88.04, 90, 90.65, 89.82, 92.13, 89.31, 90.09,...   \n",
       "1  [9.21, 9.62, 10.2, 10.85, 12.69, 12.7, 12.38, ...   \n",
       "\n",
       "                                         Close Price  \\\n",
       "0  [89.91, 90.29, 90.49, 91.14, 90.38, 90.29, 89....   \n",
       "1  [9.49, 9.92, 10.77, 11.64, 12.07, 12.98, 12.59...   \n",
       "\n",
       "                                           Max Price  \\\n",
       "0  [89.98, 90.63, 91.14, 91.74, 93.04, 90.589, 90...   \n",
       "1  [9.645, 10.04, 10.89, 11.65, 13.86, 13.04, 12....   \n",
       "\n",
       "                                        Lowest Price  \\\n",
       "0  [87.94, 89.11, 90.26, 89.815, 90.09, 89.06, 89...   \n",
       "1  [9.15, 9.62, 10.085, 10.575, 11.57, 12.3, 12.0...   \n",
       "\n",
       "                                           Unix Time  \\\n",
       "0  [1590984000000, 1591070400000, 1591156800000, ...   \n",
       "1  [1590984000000, 1591070400000, 1591156800000, ...   \n",
       "\n",
       "                              Number of Transactions  \n",
       "0  [22455, 18725, 16385, 19842, 34246, 15197, 176...  \n",
       "1  [27809, 30443, 39445, 53007, 95154, 57874, 460...  "
      ]
     },
     "execution_count": 4,
     "metadata": {},
     "output_type": "execute_result"
    }
   ],
   "source": [
    "nasdaq_df = pd.DataFrame(nasdaq_data)\n",
    "output_data_file = \"Resources/Nasdaq_data.csv\"\n",
    "\n",
    "nasdaq_df.head(10)\n",
    "#nasdaq_df.to_csv(output_data_file, index_label=\"City_ID\")"
   ]
  }
 ],
 "metadata": {
  "kernelspec": {
   "display_name": "Python 3 (ipykernel)",
   "language": "python",
   "name": "python3"
  },
  "language_info": {
   "codemirror_mode": {
    "name": "ipython",
    "version": 3
   },
   "file_extension": ".py",
   "mimetype": "text/x-python",
   "name": "python",
   "nbconvert_exporter": "python",
   "pygments_lexer": "ipython3",
   "version": "3.9.7"
  }
 },
 "nbformat": 4,
 "nbformat_minor": 5
}
