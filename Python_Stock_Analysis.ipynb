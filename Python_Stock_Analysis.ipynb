{
 "cells": [
  {
   "cell_type": "code",
   "execution_count": 4,
   "id": "1488541b",
   "metadata": {},
   "outputs": [],
   "source": [
    "# Import dependancies\n",
    "import requests\n",
    "import pandas as pd\n",
    "import numpy as np\n",
    "from config import stocks_api\n",
    "\n",
    "nasdaq = pd.read_csv(\"Resources/nasdaq_screener_1650145895697.csv\") # Read Nasdaq csv\n",
    "nasdaq_tickers = nasdaq[\"Symbol\"] # Create list of unique nasdaq tickers\n",
    "nasdaq_data = []\n",
    "\n",
    "for ticker in nasdaq_tickers:\n",
    "    try:\n",
    "        url = \"https://api.polygon.io/v2/aggs/ticker/\" + ticker + \"/range/1/day/2020-06-01/2020-06-17?apiKey=\" + stocks_api\n",
    "        ticker_request = requests.get(url)    \n",
    "        ticker_data = ticker_request.json()\n",
    "        \n",
    "        volume = ticker_data[\"results\"][\"v\"]\n",
    "        volume_weighted_average = ticker_data[\"results\"][\"vw\"]\n",
    "        open_price = ticker_data[\"results\"][\"o\"]\n",
    "        close_price = ticker_data[\"results\"][\"c\"]\n",
    "        max_price = ticker_data[\"results\"][\"h\"]\n",
    "        lowest_price = ticker_data[\"results\"][\"l\"]\n",
    "        unix_time = ticker_data[\"results\"][\"t\"]\n",
    "        number_of_transactions = ticker_data[\"results\"][\"n\"]\n",
    "        \n",
    "        nasdaq_data.append({\"Tickers\": ticker,\n",
    "                         \"Volume\": volume,\n",
    "                         \"Volume Weighted Average\": volume_weighted_average,\n",
    "                         \"Open Price\": open_price,\n",
    "                         \"Close Price\": close_price,\n",
    "                         \"Max Price\": max_price,\n",
    "                         \"Lowest Price\": lowest_price,\n",
    "                         \"Unix Time\": unix_time,\n",
    "                         \"Number of Transactions\": number_of_transactions})\n",
    "    except:\n",
    "        print(f\"The Ticker, \" + ticker + \"is unavailible\")\n",
    "        \n",
    "        pass\n",
    "  \n"
   ]
  }
 ],
 "metadata": {
  "kernelspec": {
   "display_name": "Python 3 (ipykernel)",
   "language": "python",
   "name": "python3"
  },
  "language_info": {
   "codemirror_mode": {
    "name": "ipython",
    "version": 3
   },
   "file_extension": ".py",
   "mimetype": "text/x-python",
   "name": "python",
   "nbconvert_exporter": "python",
   "pygments_lexer": "ipython3",
   "version": "3.9.7"
  }
 },
 "nbformat": 4,
 "nbformat_minor": 5
}
